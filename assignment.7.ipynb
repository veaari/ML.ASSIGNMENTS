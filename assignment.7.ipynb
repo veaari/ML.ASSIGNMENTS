{
 "cells": [
  {
   "cell_type": "code",
   "execution_count": 5,
   "id": "e035cb65-e540-499f-9261-a106b4b96e6d",
   "metadata": {},
   "outputs": [
    {
     "name": "stdout",
     "output_type": "stream",
     "text": [
      "        rank discipline  phd  service   sex  salary\n",
      "0       Prof          B   56       49  Male  186960\n",
      "1       Prof          A   20       20  Male  122400\n",
      "2  AssocProf          A   20       17  Male   81285\n",
      "3       Prof          B   23       23  Male  134778\n",
      "4   AsstProf          B    1        0  Male   88000\n"
     ]
    }
   ],
   "source": [
    "import pandas as pd\n",
    "\n",
    "# Load the dataset\n",
    "dataframe = pd.read_csv('Salaries.csv')\n",
    "\n",
    "# Display the first 5 rows\n",
    "print(dataframe.head())\n"
   ]
  },
  {
   "cell_type": "code",
   "execution_count": null,
   "id": "aeae8cee-705b-463a-bd0d-9dbc00c46b0f",
   "metadata": {},
   "outputs": [],
   "source": []
  },
  {
   "cell_type": "code",
   "execution_count": null,
   "id": "7f7dc05c-50d1-49f1-b737-0ed2ea66380a",
   "metadata": {},
   "outputs": [],
   "source": []
  }
 ],
 "metadata": {
  "kernelspec": {
   "display_name": "Python 3 (ipykernel)",
   "language": "python",
   "name": "python3"
  },
  "language_info": {
   "codemirror_mode": {
    "name": "ipython",
    "version": 3
   },
   "file_extension": ".py",
   "mimetype": "text/x-python",
   "name": "python",
   "nbconvert_exporter": "python",
   "pygments_lexer": "ipython3",
   "version": "3.11.7"
  }
 },
 "nbformat": 4,
 "nbformat_minor": 5
}
