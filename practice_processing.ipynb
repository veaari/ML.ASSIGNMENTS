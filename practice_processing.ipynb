{
 "cells": [
  {
   "cell_type": "code",
   "execution_count": 5,
   "id": "962e1d19-84c7-4bb6-bdb9-f4645658d8df",
   "metadata": {},
   "outputs": [],
   "source": [
    "def reomove_punc(str):\n",
    "    punc_marks = ['.', ',', '\"', '{', '}', ';', ':', '-', '?', \"'\"]\n",
    "    input_text = \"Hello world, let's enjoy today?: \"\n",
    "    output_text = \"\"\n",
    "    \n",
    "    for char in input_text:\n",
    "        if char not in punc_marks:\n",
    "            output_text += char\n",
    "\n",
    "    print(output_text)"
   ]
  },
  {
   "cell_type": "code",
   "execution_count": 2,
   "id": "0435ad2d-dc35-4ba7-94b0-53bf6c08cc44",
   "metadata": {},
   "outputs": [
    {
     "ename": "NameError",
     "evalue": "name 'text' is not defined",
     "output_type": "error",
     "traceback": [
      "\u001b[1;31m---------------------------------------------------------------------------\u001b[0m",
      "\u001b[1;31mNameError\u001b[0m                                 Traceback (most recent call last)",
      "Cell \u001b[1;32mIn[2], line 5\u001b[0m\n\u001b[0;32m      3\u001b[0m \u001b[38;5;28;01mfor\u001b[39;00m char \u001b[38;5;129;01min\u001b[39;00m input_text:\n\u001b[0;32m      4\u001b[0m     \u001b[38;5;28;01mif\u001b[39;00m char \u001b[38;5;129;01mnot\u001b[39;00m \u001b[38;5;129;01min\u001b[39;00m punc_marks:\n\u001b[1;32m----> 5\u001b[0m         text \u001b[38;5;241m=\u001b[39m text\u001b[38;5;241m.\u001b[39mreplace(char, \u001b[38;5;124m'\u001b[39m\u001b[38;5;124m'\u001b[39m)\n\u001b[0;32m      7\u001b[0m \u001b[38;5;28mprint\u001b[39m(text)\n",
      "\u001b[1;31mNameError\u001b[0m: name 'text' is not defined"
     ]
    }
   ],
   "source": [
    "punc_marks = ['.', ',', '\"', '{', '}', ';', ':', '-', '?', \"'\"]\n",
    "input_text = \"Hello world, let's enjoy today?: \" \n",
    "for char in input_text:\n",
    "    if char not in punc_marks:\n",
    "        text = text.replace(char, '')\n",
    "\n",
    "print(text)\n"
   ]
  },
  {
   "cell_type": "code",
   "execution_count": 4,
   "id": "f5d3e9e0-2789-41a1-8950-94a74e1e72ef",
   "metadata": {},
   "outputs": [
    {
     "name": "stdout",
     "output_type": "stream",
     "text": [
      "Hello world lets enjoy today \n"
     ]
    }
   ],
   "source": [
    "def remove_punctuation(input_text):\n",
    "    punc_marks = ['.', ',', '\"', '{', '}', ';', ':', '-', '?', \"'\", '!', '/', '\\\\', '#']\n",
    "    output_text = \"\"\n",
    "    for char in input_text:\n",
    "        if char not in punc_marks:\n",
    "            output_text += char\n",
    "    return output_text\n",
    "input_text = \"Hello world! let's enjoy today?: \"\n",
    "cleaned_text = remove_punctuation(input_text)\n",
    "print(cleaned_text)\n"
   ]
  },
  {
   "cell_type": "code",
   "execution_count": 1,
   "id": "d6824e0e-9aa4-4b98-8d86-d718d5faf0c2",
   "metadata": {},
   "outputs": [],
   "source": [
    "def remove_stopwordmarks(input_text):\n",
    "    stop_words = ['i', 'the', 'and', 'a', 'of', 'to', 'in', 'that', 'is', 'you', 'it', 'he', 'she', 'we', 'they', 'for', 'on', 'with']\n",
    "    words = input_text.split()\n",
    "    # removing of words\n",
    "    filter_words = []\n",
    "    for word in words :\n",
    "        if words.lower() not in stop_words:\n",
    "            filter_words.append(word)\n",
    "         #joining    \n",
    "    output_text = ' ',join(filter_words) \n",
    "    return output_text"
   ]
  },
  {
   "cell_type": "code",
   "execution_count": null,
   "id": "7957dbf7-1dc3-4886-88f5-c21baf3316a7",
   "metadata": {},
   "outputs": [],
   "source": []
  }
 ],
 "metadata": {
  "kernelspec": {
   "display_name": "Python 3 (ipykernel)",
   "language": "python",
   "name": "python3"
  },
  "language_info": {
   "codemirror_mode": {
    "name": "ipython",
    "version": 3
   },
   "file_extension": ".py",
   "mimetype": "text/x-python",
   "name": "python",
   "nbconvert_exporter": "python",
   "pygments_lexer": "ipython3",
   "version": "3.12.7"
  }
 },
 "nbformat": 4,
 "nbformat_minor": 5
}
