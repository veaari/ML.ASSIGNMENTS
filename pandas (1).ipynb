{
 "cells": [
  {
   "cell_type": "code",
   "execution_count": 7,
   "id": "a28ba9a8-f521-4aa7-a29d-15c2eef59e0f",
   "metadata": {},
   "outputs": [
    {
     "name": "stdout",
     "output_type": "stream",
     "text": [
      "0    10\n",
      "1    20\n",
      "2    30\n",
      "3    40\n",
      "dtype: int64\n"
     ]
    }
   ],
   "source": [
    "import pandas as pd\n",
    "data = [10,20,30,40]\n",
    "series = pd.Series(data)\n",
    "print(series)\n"
   ]
  },
  {
   "cell_type": "code",
   "execution_count": 8,
   "id": "ffc95917-0dcf-42c1-9e7b-dfe341d277af",
   "metadata": {},
   "outputs": [
    {
     "name": "stdout",
     "output_type": "stream",
     "text": [
      "a    10\n",
      "b    20\n",
      "c    30\n",
      "d    40\n",
      "dtype: int64\n"
     ]
    }
   ],
   "source": [
    "# CREATING SERIES USING A CUSTOM INDEX\n",
    "dataa = [1,2,3,4]\n",
    "i = ['a','b','c','d']\n",
    "series = pd.Series(data,index = i)\n",
    "print(series)"
   ]
  },
  {
   "cell_type": "code",
   "execution_count": 11,
   "id": "00996be6-35e4-4ec1-8242-fa1221fb3e49",
   "metadata": {},
   "outputs": [
    {
     "name": "stdout",
     "output_type": "stream",
     "text": [
      "0    10\n",
      "1    20\n",
      "2    30\n",
      "3    40\n",
      "dtype: int64\n"
     ]
    }
   ],
   "source": [
    "#creating pandas series using dictonaries\n",
    "daata = {'a': 10, 'b': 20, 'c': 30}\n",
    "series = pd.Series(data)\n",
    "print(series)"
   ]
  },
  {
   "cell_type": "code",
   "execution_count": 14,
   "id": "ed4e15d6-2927-4015-a138-51d5a0c244d6",
   "metadata": {},
   "outputs": [
    {
     "name": "stdout",
     "output_type": "stream",
     "text": [
      "a    100\n",
      "b    200\n",
      "c    300\n",
      "dtype: int32\n"
     ]
    }
   ],
   "source": [
    "#creationg series using numpy array\n",
    "import numpy as np\n",
    "data = np.array([100,200,300])\n",
    "series = pd.Series(data, index = ['a','b','c'])\n",
    "print(series)"
   ]
  },
  {
   "cell_type": "code",
   "execution_count": 15,
   "id": "0a6d4731-4b01-410a-8a46-4608d63fd56a",
   "metadata": {},
   "outputs": [
    {
     "name": "stdout",
     "output_type": "stream",
     "text": [
      "     name  age COUNTRY\n",
      "0     ved   20   india\n",
      "1    adap   19   india\n",
      "2  chinna   16   india\n"
     ]
    }
   ],
   "source": [
    "#create pandas dataframe from dict of lists\n",
    "import pandas as pd\n",
    "\n",
    "data = {'name':['ved','adap','chinna'],'age':[20,19,16],\n",
    "        'COUNTRY':['india','india','india']}\n",
    "df = pd.DataFrame(data)\n",
    "print(df)        "
   ]
  },
  {
   "cell_type": "raw",
   "id": "0e1831ca-44b4-4550-9b3c-4e53fc1cae78",
   "metadata": {},
   "source": []
  }
 ],
 "metadata": {
  "kernelspec": {
   "display_name": "Python 3 (ipykernel)",
   "language": "python",
   "name": "python3"
  },
  "language_info": {
   "codemirror_mode": {
    "name": "ipython",
    "version": 3
   },
   "file_extension": ".py",
   "mimetype": "text/x-python",
   "name": "python",
   "nbconvert_exporter": "python",
   "pygments_lexer": "ipython3",
   "version": "3.12.7"
  }
 },
 "nbformat": 4,
 "nbformat_minor": 5
}
